{
 "cells": [
  {
   "cell_type": "code",
   "execution_count": 2,
   "metadata": {},
   "outputs": [],
   "source": [
    "import pandas as pd\n",
    "import matplotlib.pyplot as plt\n",
    "import numpy as np\n",
    "from sklearn.metrics.pairwise import cosine_similarity\n",
    "from sklearn.feature_extraction.text import CountVectorizer"
   ]
  },
  {
   "cell_type": "code",
   "execution_count": 3,
   "metadata": {},
   "outputs": [
    {
     "data": {
      "text/html": [
       "<div>\n",
       "<style scoped>\n",
       "    .dataframe tbody tr th:only-of-type {\n",
       "        vertical-align: middle;\n",
       "    }\n",
       "\n",
       "    .dataframe tbody tr th {\n",
       "        vertical-align: top;\n",
       "    }\n",
       "\n",
       "    .dataframe thead th {\n",
       "        text-align: right;\n",
       "    }\n",
       "</style>\n",
       "<table border=\"1\" class=\"dataframe\">\n",
       "  <thead>\n",
       "    <tr style=\"text-align: right;\">\n",
       "      <th></th>\n",
       "      <th>index</th>\n",
       "      <th>Username</th>\n",
       "      <th>Categories</th>\n",
       "      <th>Suscribers</th>\n",
       "      <th>Country</th>\n",
       "      <th>Visits</th>\n",
       "      <th>Likes</th>\n",
       "      <th>Comments</th>\n",
       "      <th>Links</th>\n",
       "    </tr>\n",
       "  </thead>\n",
       "  <tbody>\n",
       "    <tr>\n",
       "      <th>0</th>\n",
       "      <td>0</td>\n",
       "      <td>tseries</td>\n",
       "      <td>Music and Dance</td>\n",
       "      <td>249500000.0</td>\n",
       "      <td>India</td>\n",
       "      <td>86200.0</td>\n",
       "      <td>2700.0</td>\n",
       "      <td>78.0</td>\n",
       "      <td>http://youtube.com/channel/UCq-Fj5jknLsUf-MWSy...</td>\n",
       "    </tr>\n",
       "    <tr>\n",
       "      <th>1</th>\n",
       "      <td>1</td>\n",
       "      <td>MrBeast</td>\n",
       "      <td>Video Games, Humor</td>\n",
       "      <td>183500000.0</td>\n",
       "      <td>United States</td>\n",
       "      <td>117400000.0</td>\n",
       "      <td>5300000.0</td>\n",
       "      <td>18500.0</td>\n",
       "      <td>http://youtube.com/channel/UCX6OQ3DkcsbYNE6H8u...</td>\n",
       "    </tr>\n",
       "    <tr>\n",
       "      <th>2</th>\n",
       "      <td>2</td>\n",
       "      <td>CoComelon</td>\n",
       "      <td>Education</td>\n",
       "      <td>165500000.0</td>\n",
       "      <td>Unknown</td>\n",
       "      <td>7000000.0</td>\n",
       "      <td>24700.0</td>\n",
       "      <td>0.0</td>\n",
       "      <td>http://youtube.com/channel/UCbCmjCuTUZos6Inko4...</td>\n",
       "    </tr>\n",
       "    <tr>\n",
       "      <th>3</th>\n",
       "      <td>3</td>\n",
       "      <td>SETIndia</td>\n",
       "      <td>Unknown</td>\n",
       "      <td>162600000.0</td>\n",
       "      <td>India</td>\n",
       "      <td>15600.0</td>\n",
       "      <td>166.0</td>\n",
       "      <td>9.0</td>\n",
       "      <td>http://youtube.com/channel/UCpEhnqL0y41EpW2TvW...</td>\n",
       "    </tr>\n",
       "    <tr>\n",
       "      <th>4</th>\n",
       "      <td>4</td>\n",
       "      <td>KidsDianaShow</td>\n",
       "      <td>Animation, Toys</td>\n",
       "      <td>113500000.0</td>\n",
       "      <td>Unknown</td>\n",
       "      <td>3900000.0</td>\n",
       "      <td>12400.0</td>\n",
       "      <td>0.0</td>\n",
       "      <td>http://youtube.com/channel/UCk8GzjMOrta8yxDcKf...</td>\n",
       "    </tr>\n",
       "  </tbody>\n",
       "</table>\n",
       "</div>"
      ],
      "text/plain": [
       "   index       Username          Categories   Suscribers        Country  \\\n",
       "0      0        tseries     Music and Dance  249500000.0          India   \n",
       "1      1        MrBeast  Video Games, Humor  183500000.0  United States   \n",
       "2      2      CoComelon           Education  165500000.0        Unknown   \n",
       "3      3       SETIndia             Unknown  162600000.0          India   \n",
       "4      4  KidsDianaShow     Animation, Toys  113500000.0        Unknown   \n",
       "\n",
       "        Visits      Likes  Comments  \\\n",
       "0      86200.0     2700.0      78.0   \n",
       "1  117400000.0  5300000.0   18500.0   \n",
       "2    7000000.0    24700.0       0.0   \n",
       "3      15600.0      166.0       9.0   \n",
       "4    3900000.0    12400.0       0.0   \n",
       "\n",
       "                                               Links  \n",
       "0  http://youtube.com/channel/UCq-Fj5jknLsUf-MWSy...  \n",
       "1  http://youtube.com/channel/UCX6OQ3DkcsbYNE6H8u...  \n",
       "2  http://youtube.com/channel/UCbCmjCuTUZos6Inko4...  \n",
       "3  http://youtube.com/channel/UCpEhnqL0y41EpW2TvW...  \n",
       "4  http://youtube.com/channel/UCk8GzjMOrta8yxDcKf...  "
      ]
     },
     "execution_count": 3,
     "metadata": {},
     "output_type": "execute_result"
    }
   ],
   "source": [
    "df = pd.read_csv('youtubers_df_cleaned.csv')\n",
    "df = df.reset_index()\n",
    "df.head()"
   ]
  },
  {
   "cell_type": "code",
   "execution_count": 4,
   "metadata": {},
   "outputs": [],
   "source": [
    "# Combine important columns\n",
    "def combine_features(data):\n",
    "    features = []\n",
    "    for i in range(0, data.shape[0]):\n",
    "        features.append(data[\"Categories\"][i] + \" \" + data[\"Country\"][i])\n",
    "    return features\n",
    "    "
   ]
  },
  {
   "cell_type": "code",
   "execution_count": 5,
   "metadata": {},
   "outputs": [],
   "source": [
    "df[\"combined_features\"] = combine_features(df)\n"
   ]
  },
  {
   "cell_type": "code",
   "execution_count": 6,
   "metadata": {},
   "outputs": [],
   "source": [
    "# Convert text from the new column to a matrix of word counts\n",
    "cm = CountVectorizer().fit_transform(df[\"combined_features\"])"
   ]
  },
  {
   "cell_type": "code",
   "execution_count": 7,
   "metadata": {},
   "outputs": [],
   "source": [
    "# Get the cosine similarity matrix from the count matrix\n",
    "cs = cosine_similarity(cm)"
   ]
  },
  {
   "cell_type": "code",
   "execution_count": 8,
   "metadata": {},
   "outputs": [
    {
     "data": {
      "text/plain": [
       "'LikeNastya_ESP'"
      ]
     },
     "execution_count": 8,
     "metadata": {},
     "output_type": "execute_result"
    }
   ],
   "source": [
    "# Get a genre a user likes of the book the reader likes\n",
    "youtuber = df[\"Username\"][81]\n",
    "youtuber"
   ]
  },
  {
   "cell_type": "code",
   "execution_count": 9,
   "metadata": {},
   "outputs": [
    {
     "data": {
      "text/plain": [
       "81"
      ]
     },
     "execution_count": 9,
     "metadata": {},
     "output_type": "execute_result"
    }
   ],
   "source": [
    "# Find the index of the YouTuber the user likes\n",
    "ytuber_id = df[df.Username == youtuber][\"index\"].values[0]\n",
    "ytuber_id"
   ]
  },
  {
   "cell_type": "code",
   "execution_count": 10,
   "metadata": {},
   "outputs": [],
   "source": [
    "# Create a list of tuples in the form (username, similarity score)\n",
    "scores = list(enumerate(cs[ytuber_id]))"
   ]
  },
  {
   "cell_type": "code",
   "execution_count": 11,
   "metadata": {},
   "outputs": [],
   "source": [
    "# Sort the list of similar books in descending order\n",
    "sorted_scores = sorted(scores, key = lambda x:x[1], reverse = True)\n",
    "sorted_scores = sorted_scores[1:]"
   ]
  },
  {
   "cell_type": "code",
   "execution_count": 13,
   "metadata": {},
   "outputs": [],
   "source": [
    "def recommend(account):\n",
    "    recommendations = []\n",
    "    # Find the index of the YouTuber the user likes\n",
    "    ytuber_id = df[df.Username == account][\"index\"].values[0]\n",
    "\n",
    "    # Create a list of tuples in the form (username, similarity score)\n",
    "    scores = list(enumerate(cs[ytuber_id]))\n",
    "\n",
    "    # Sort the list of similar books in descending order\n",
    "    sorted_scores = sorted(scores, key = lambda x:x[1], reverse = True)\n",
    "    sorted_scores = sorted_scores[1:]\n",
    "\n",
    "    # Exclude the account the user picked from the list of similar accounts\n",
    "    for i in sorted_scores:\n",
    "        if i[0] == ytuber_id:\n",
    "            print(i)\n",
    "            sorted_scores.remove(i)\n",
    "    \n",
    "    # Create a loop to print the first 5 most similar accounts\n",
    "    print(f\"The 5 most similar accounts to '{account}' are:\\n \")\n",
    "    \n",
    "    j = 0\n",
    "    for item in sorted_scores:\n",
    "        accounts = df[df['index'] == item[0]][\"Username\"].values[0]\n",
    "        recommendations.append(accounts)\n",
    "        j = j+1\n",
    "        if j >= 5:\n",
    "            break\n",
    "\n",
    "    return recommendations"
   ]
  },
  {
   "cell_type": "code",
   "execution_count": 14,
   "metadata": {},
   "outputs": [
    {
     "name": "stdout",
     "output_type": "stream",
     "text": [
      "The 5 most similar accounts to 'MrBeast' are:\n",
      " \n",
      "1. brentrivera\n",
      "2. PrestonYT\n",
      "3. rug\n",
      "4. StokesTwins\n",
      "5. BenAzelart\n"
     ]
    }
   ],
   "source": [
    "for count, account in enumerate(recommend(df.Username[1])):\n",
    "    print(str(count+1) + '. ' + account)"
   ]
  }
 ],
 "metadata": {
  "kernelspec": {
   "display_name": "base",
   "language": "python",
   "name": "python3"
  },
  "language_info": {
   "codemirror_mode": {
    "name": "ipython",
    "version": 3
   },
   "file_extension": ".py",
   "mimetype": "text/x-python",
   "name": "python",
   "nbconvert_exporter": "python",
   "pygments_lexer": "ipython3",
   "version": "3.10.9"
  }
 },
 "nbformat": 4,
 "nbformat_minor": 2
}
